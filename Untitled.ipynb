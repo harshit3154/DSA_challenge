{
 "cells": [
  {
   "cell_type": "code",
   "execution_count": null,
   "id": "92725e61-6496-4522-bd82-1b8e7d626884",
   "metadata": {},
   "outputs": [],
   "source": [
    "uihu"
   ]
  }
 ],
 "metadata": {
  "kernelspec": {
   "display_name": "Python 3 (ipykernel)",
   "language": "python",
   "name": "python3"
  },
  "language_info": {
   "codemirror_mode": {
    "name": "ipython",
    "version": 3
   },
   "file_extension": ".py",
   "mimetype": "text/x-python",
   "name": "python",
   "nbconvert_exporter": "python",
   "pygments_lexer": "ipython3",
   "version": "3.12.2"
  }
 },
 "nbformat": 4,
 "nbformat_minor": 5
}
